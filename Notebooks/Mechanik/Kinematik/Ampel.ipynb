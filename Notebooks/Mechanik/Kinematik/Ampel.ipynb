{
 "cells": [
  {
   "cell_type": "markdown",
   "metadata": {},
   "source": [
    "# Ampel\n",
    "### Aufgabenstellung\n",
    "\n",
    "Ein Kraftfahrzeug nähert sich einer Verkehrsampel mit verminderter Geschwindigkeit. Beim Umschalten der Ampel auf Grün wird das KFZ während der Zeit $t_{1}$ gleichmäßig mit $a$ beschleunigt und legt dabei die Wegstrecke $s_{1}$ zurück.\\\n",
    "Wie groß sind die Geschwindigkeiten $v_{0}$ und $v_{1}$ am Anfang und am Ende der Beschleunigungsphase?\n",
    "\n",
    "### Gegeben\n",
    "- Beschleunigung $a = 0,94~\\frac{m}{s²}$\n",
    "- Zeit $t_{1} = 5,3~s$\n",
    "- Wegstrecke $s_{1} = 60~m$\n",
    "\n",
    "### Gesucht\n",
    "Geschwindigkeit in Metern pro Sekunde [$\\frac{m}{s}$] \n",
    "1. $v_{0}$\n",
    "2. $v_{1}$\n",
    "\n",
    "### Skizze\n",
    "\n",
    "![title](Skizzen/Skizze_Ampel.png)"
   ]
  },
  {
   "cell_type": "markdown",
   "metadata": {},
   "source": [
    "### Physikalischer Lösungsweg\n",
    "Für die Berechnung von $v_{0}$ und $v_{1}$ benötigen wir das Weg-Zeit-Gesetz für die gleichförmig beschleunigte Bewegung:\n",
    "\n",
    "$ s(t) = \\frac{a}{2} \\cdot{} t^2 + v_0 \\cdot{} t + s_0 \\;\\;| s_0 = 0$\n",
    "\n",
    "$ s_1(t) = \\frac{a}{2} \\cdot{} t_{1}^2 + v_0 \\cdot{} t_1 $\n",
    "\n",
    "Dadurch ergeben sich für $v_{0}$ und $v_{1}$ folgende Formeln: \n",
    "\n",
    "$ v_{0} = \\frac{s_{1}}{t_{1}} -\\frac{a}{2} \\cdot{}t_{1}$\n",
    "\n",
    "$ v(t) = a \\cdot{} t + v_{0}$\n",
    "\n",
    "$ v_1(t) = a \\cdot{} t + \\frac{s_{1}}{t_{1}} -\\frac{a}{2} \\cdot{}t_{1}$\n",
    "\n",
    "Berechnung $v_0$:\n",
    "\n",
    "$v_{0}(t_{1}) = \\frac{60~m}{5,3~s} - \\frac{1}{2}\\cdot 0,94 \\frac{m}{s^2} \\cdot 5,3~s  = 8,83~\\frac{m}{s}  ≈ 32~\\frac{km}{h}$\n",
    "\n",
    "Berechnung $v$ mithilfe der zuvor bestimmten Geschwindigkeit $v_0$:\n",
    "\n",
    "$v_{1}(t_{1}) = 0,94 \\frac{m}{s^2} \\cdot 5,3~s+ 8,83~\\frac{m}{s^2} = 13,81~\\frac{m}{s} ≈ 50~\\frac{km}{h}$\n",
    "\n",
    "Berechnung $v$ ohne vorher bestimmte Geschwindigkeit $v_0$:\n",
    "\n",
    "$v_{1}(t_{1}) = 0,94 \\frac{m}{s^2} \\cdot 5,3~s + \\frac{60~m}{5,3~s} - \\frac{1}{2} \\cdot 0,94 \\frac{m}{s^2} \\cdot 5,3~s = 13,81~\\frac{m}{s} ≈ 50~\\frac{km}{h}$"
   ]
  },
  {
   "cell_type": "markdown",
   "metadata": {},
   "source": [
    "### Implemetierung in Python\n",
    "Zuerst müssen einige Bibliotheken importiert werden, die für Berechnungen, Visualisierung, etc. notwendig sind."
   ]
  },
  {
   "cell_type": "code",
   "execution_count": 1,
   "metadata": {},
   "outputs": [],
   "source": [
    "import matplotlib.pyplot as plt\n",
    "import pandas as pd\n",
    "import numpy as np"
   ]
  },
  {
   "cell_type": "markdown",
   "metadata": {},
   "source": [
    "Nun können für die oben gezeigten Formeln durch PyVo-Funktionen definiert werden, mit denen im Anschluss die Ergebnisse für z.B. $v_0$ und $v_1$ berechnet werden können."
   ]
  },
  {
   "cell_type": "code",
   "execution_count": 2,
   "metadata": {},
   "outputs": [],
   "source": [
    "# Funktion zur Berechnung von v0\n",
    "def berechne_v0(a, t, s):\n",
    "    return (s/t) - (0.5*a*t)\n",
    "\n",
    "# Funktion zur Berechnung von v1\n",
    "def berechne_v1(a, t, s):\n",
    "    return (a * t) + (s/t) - (0.5*a*t)\n",
    "\n",
    "# allgemeine Funktion zur Berechnung der Geschwindigkeit v\n",
    "def berechne_v(a,t, v0):\n",
    "    return (a * t) + v0\n",
    "\n",
    "# allgemeine Funktion zur Berechnung des Weges s\n",
    "def berechne_s(v0, t, a):\n",
    "    return (v0 * t) + ((a/2) * t**2)"
   ]
  },
  {
   "cell_type": "markdown",
   "metadata": {},
   "source": [
    "Nachdem die Formeln definiert wurden, können nun die gegebenen Werte als Variablen definiert werden, diese der Funktion übergeben und die Ergebnisse direkt ausgeben werden. "
   ]
  },
  {
   "cell_type": "code",
   "execution_count": 3,
   "metadata": {},
   "outputs": [
    {
     "name": "stdout",
     "output_type": "stream",
     "text": [
      "v0 = 8.83 m/s\n",
      "v1 = 13.81 m/s (Rechenweg 1, ohne vorher bestimmte Geschwindigkeit v0)\n",
      "v1 = 13.81 m/s (Rechenweg 2, mithilfe der zuvor bestimmten Geschwindigkeit v0)\n"
     ]
    }
   ],
   "source": [
    "# Variablen definieren\n",
    "a = 0.94 # m/s²\n",
    "t = 5.3  # s\n",
    "s = 60   # m\n",
    "\n",
    "# Funktionsaufruf zur Berechnung von v0\n",
    "v0 = berechne_v0(a, t, s)\n",
    "# Ausgabe des Ergebnisses unter Beachtung der signifikanten Stellen der Eingabeparameter (hier 2)\n",
    "print(f\"v0 = {round(v0,2)} m/s\")\n",
    "\n",
    "# Funktionsaufruf zur Berechnung von v1 ohne v0 zu kennen.\n",
    "v1 = berechne_v1(a, t, s)\n",
    "print(f\"v1 = {round(v1,2)} m/s (Rechenweg 1, ohne vorher bestimmte Geschwindigkeit v0)\")\n",
    "\n",
    "# Funktionsaufruf zur Berechnung von v1 mithilfe des zuvor bestimmten v0.\n",
    "v1 = berechne_v(a, t, v0)\n",
    "print(f\"v1 = {round(v1,2)} m/s (Rechenweg 2, mithilfe der zuvor bestimmten Geschwindigkeit v0)\")"
   ]
  },
  {
   "cell_type": "markdown",
   "metadata": {},
   "source": [
    "### Graphische Darstellung\n",
    "Nun können die Zusammenhänge der gleichmäßig beschleunigten Bewegung für die gegebenen Parameter visualisiert werden. Hierfür werden für definierte Zeitschritt die Beschleunigung $a$, die Geschwindigkeit $v$ und zurückgelegte Wegstrecke $s$ abhängig von $t$ bestimmt.\\\n",
    "Der folgende Code berechnet Beschleunigung, Geschwindigkeit und Weg für die gegebenen Werte: \n",
    "\n",
    "Beschleunigung $a_0 = 0,94~\\frac{m}{s²}$\\\n",
    "benötigte Zeit $t = 5,3~s$\\\n",
    "zurückgelegter Weg $s_1 = 60~m$ nach zurückgelegter Zeit $t$"
   ]
  },
  {
   "cell_type": "code",
   "execution_count": 4,
   "metadata": {},
   "outputs": [
    {
     "data": {
      "text/html": [
       "<div>\n",
       "<style scoped>\n",
       "    .dataframe tbody tr th:only-of-type {\n",
       "        vertical-align: middle;\n",
       "    }\n",
       "\n",
       "    .dataframe tbody tr th {\n",
       "        vertical-align: top;\n",
       "    }\n",
       "\n",
       "    .dataframe thead th {\n",
       "        text-align: right;\n",
       "    }\n",
       "</style>\n",
       "<table border=\"1\" class=\"dataframe\">\n",
       "  <thead>\n",
       "    <tr style=\"text-align: right;\">\n",
       "      <th></th>\n",
       "      <th>time</th>\n",
       "      <th>a</th>\n",
       "      <th>v</th>\n",
       "      <th>s</th>\n",
       "    </tr>\n",
       "  </thead>\n",
       "  <tbody>\n",
       "    <tr>\n",
       "      <th>0</th>\n",
       "      <td>-2.65</td>\n",
       "      <td>0.0</td>\n",
       "      <td>8.829755</td>\n",
       "      <td>0.882975</td>\n",
       "    </tr>\n",
       "    <tr>\n",
       "      <th>1</th>\n",
       "      <td>-2.55</td>\n",
       "      <td>0.0</td>\n",
       "      <td>8.829755</td>\n",
       "      <td>1.765951</td>\n",
       "    </tr>\n",
       "    <tr>\n",
       "      <th>2</th>\n",
       "      <td>-2.45</td>\n",
       "      <td>0.0</td>\n",
       "      <td>8.829755</td>\n",
       "      <td>2.648926</td>\n",
       "    </tr>\n",
       "    <tr>\n",
       "      <th>3</th>\n",
       "      <td>-2.35</td>\n",
       "      <td>0.0</td>\n",
       "      <td>8.829755</td>\n",
       "      <td>3.531902</td>\n",
       "    </tr>\n",
       "    <tr>\n",
       "      <th>4</th>\n",
       "      <td>-2.25</td>\n",
       "      <td>0.0</td>\n",
       "      <td>8.829755</td>\n",
       "      <td>4.414877</td>\n",
       "    </tr>\n",
       "  </tbody>\n",
       "</table>\n",
       "</div>"
      ],
      "text/plain": [
       "   time    a         v         s\n",
       "0 -2.65  0.0  8.829755  0.882975\n",
       "1 -2.55  0.0  8.829755  1.765951\n",
       "2 -2.45  0.0  8.829755  2.648926\n",
       "3 -2.35  0.0  8.829755  3.531902\n",
       "4 -2.25  0.0  8.829755  4.414877"
      ]
     },
     "execution_count": 4,
     "metadata": {},
     "output_type": "execute_result"
    }
   ],
   "source": [
    "# Definition der Startparameter\n",
    "a0 = 0.94 # m/s^2\n",
    "weg = 60 # m\n",
    "t_gesamt = 5.3 #s\n",
    "\n",
    "# Hier definieren wir einen Beobachtungszeitraum, der die über die 5.3s hinaus geht und definieren dabei automatisch t0 und t1.\n",
    "zeitschritte = np.arange(0,t_gesamt*2,0.1).round(1)\n",
    "t1 = round(((t_gesamt*2) - (t_gesamt/2)),1)\n",
    "t0 = round(t_gesamt/2, 1)\n",
    "\n",
    "# Nun definieren wir eine Tabelle, in der wir die gemessenen Werte erfassen.\n",
    "messwerte = []\n",
    "\n",
    "# Initialisieren der Variablen und Berechnung von v0.\n",
    "v0 = berechne_v0(a0, t_gesamt, weg)\n",
    "s = 0\n",
    "a = 0\n",
    "for t in zeitschritte:\n",
    "    # da nur zwischen t0 und t1 beschleunigt wird, ist die Beschleunigung \n",
    "    # nur zwischen t0 und t1 gleich der gegebenen Beschleunigung und ansonsten 0.\n",
    "    if (t >= t0) and (t <= t1):\n",
    "        a = a0\n",
    "        v0 = berechne_v(a,0.1,v0) # 0.1 ist Δt\n",
    "        s = s + berechne_s(v0,0.1,a) # s in Δs\n",
    "        messwerte.append([t-t_gesamt/2, a, v0, s]) # Hier fügen wir die aktuelle Beobachtung unseren Messwerten hinzu\n",
    "    else:\n",
    "        a = 0 # außerhalb von t0 und t1 wird nicht beschleunigt.\n",
    "        s = s + berechne_s(v0,0.1,a)\n",
    "        messwerte.append([t-t_gesamt/2, a, v0, s])\n",
    "        \n",
    "#Als letztes werden die Messwerte in ein Pandas DataFrame konvertiert. Das macht die Visualisierung einfacher.\n",
    "tabelle = pd.DataFrame(messwerte, columns=['time', 'a', 'v', 's'])   \n",
    "tabelle.head()"
   ]
  },
  {
   "cell_type": "markdown",
   "metadata": {},
   "source": [
    "### Graphische Darstellung der physikalischen Lösung\n",
    "Nun können Beschleunigung, Geschwindigkeit und Wegstrecke in Abhängigkeit von der Zeit graphisch dargestellt werden:"
   ]
  },
  {
   "cell_type": "code",
   "execution_count": 5,
   "metadata": {},
   "outputs": [
    {
     "data": {
      "image/png": "[encoded data removed]",
      "text/plain": [
       "<Figure size 1080x216 with 3 Axes>"
      ]
     },
     "metadata": {
      "needs_background": "light"
     },
     "output_type": "display_data"
    }
   ],
   "source": [
    "fig, axs = plt.subplots(1, 3, figsize=(15,3))      \n",
    "# Zeichnen der Verläufe\n",
    "axs[0].scatter(tabelle['time'], tabelle['a'], s=10, marker=\"_\")\n",
    "axs[1].plot(tabelle['time'], tabelle['v'], linestyle=\"-\")\n",
    "axs[2].plot(tabelle['time'], tabelle['s'], linestyle=\"-\")\n",
    "\n",
    "# Einstellungen des Plots\n",
    "axs[0].set_ylabel(r\"Beschleunigung $\\mathit{a}$ ($\\frac{m}{s^2}$)\")\n",
    "axs[0].set_xlabel(r\"Zeit $\\mathit{t}$ (${s}$)\")\n",
    "axs[0].axvline(x=0, ymin=0, ymax=1, color='#000000', linestyle='--')\n",
    "axs[0].axvline(x=t_gesamt, ymin=0, ymax=1, color='#000000', linestyle='--')\n",
    "axs[0].text(0,min(tabelle['a']),r\"$t_0$\")\n",
    "axs[0].text(t_gesamt-1,min(tabelle['a']),r\"$t_1$\")\n",
    "axs[1].set_ylabel(r\"Geschwindigkeit $\\mathit{v}$ ($\\frac{m}{s}$)\")\n",
    "axs[1].set_xlabel(r\"Zeit $\\mathit{t}$ (${s}$)\")\n",
    "axs[1].axvline(x=0, ymin=0, ymax=1, color='#000000', linestyle='--')\n",
    "axs[1].axvline(x=t_gesamt, ymin=0, ymax=14, color='#000000', linestyle='--')\n",
    "axs[1].text(0,min(tabelle['v']),r\"$t_0$\")\n",
    "axs[1].text(t_gesamt-1,min(tabelle['v']),r\"$t_1$\")\n",
    "axs[2].set_ylabel(r\"Weg $\\mathit{s}$ ($m$)\")\n",
    "axs[2].set_xlabel(r\"Zeit $\\mathit{t}$ (${s}$)\")\n",
    "axs[2].axvline(x=0, ymin=0, ymax=120, color='#000000',linestyle='--')\n",
    "axs[2].axvline(x=t_gesamt, ymin=0, ymax=120, color='#000000',linestyle='--')\n",
    "axs[2].text(0,min(tabelle['s']),r\"$t_0$\")\n",
    "axs[2].text(t_gesamt-1,min(tabelle['s']),r\"$t_1$\")\n",
    "plt.show()"
   ]
  },
  {
   "cell_type": "markdown",
   "metadata": {},
   "source": [
    "### Graphische Darstellung unter Variation der Anfangsbedingung\n",
    "Der Vorteil einer Programmiersprache wie Python ist es, dass die gegebenen Werte verändert oder auch die Geschwindigkeiten für mehrere Startparameter berechnet werden können. In folgendem Beispiel werden verschiedene Beschleunigungen $a_{0,i}$ gegeben und dabei die Geschwindigkeiten $v$ sowie die zurückgelegten Wegstrecken $s$ bestimmt.\n",
    "\n",
    "Als erstes erfolgt die Definition verschiedener Beschleunigungen."
   ]
  },
  {
   "cell_type": "code",
   "execution_count": 6,
   "metadata": {},
   "outputs": [],
   "source": [
    "# Definition verschiedener Beschleunigungen\n",
    "a0_vektor = [0.94, 1.94, 2.94, 3.94, 4.94]\n",
    "# a0_vektor = np.arange(0.94, 4, 1)\n",
    "# Der Zurückgelgte Weg und die Zeit sollen gleich bleiben\n",
    "weg = 60 # m\n",
    "t_gesamt = 5.3 #s\n",
    "# Anhand der Zeit ergeben sich t0 und t1\n",
    "zeitschritte = np.arange(0,t_gesamt*2,0.1).round(1)\n",
    "t1 = round((t_gesamt*2) - (t_gesamt/2),1)\n",
    "t0 = round(t_gesamt/2, 1)"
   ]
  },
  {
   "cell_type": "markdown",
   "metadata": {},
   "source": [
    "Jetzt können in einer Schleife für verschiedene Beschleunigungen $a$ alle Geschwindigkeiten $v$ und Wegstrecken $s$ in Abhängigkeit von der Zeit $t$ bestimmt werden: "
   ]
  },
  {
   "cell_type": "code",
   "execution_count": 7,
   "metadata": {},
   "outputs": [
    {
     "data": {
      "text/html": [
       "<div>\n",
       "<style scoped>\n",
       "    .dataframe tbody tr th:only-of-type {\n",
       "        vertical-align: middle;\n",
       "    }\n",
       "\n",
       "    .dataframe tbody tr th {\n",
       "        vertical-align: top;\n",
       "    }\n",
       "\n",
       "    .dataframe thead th {\n",
       "        text-align: right;\n",
       "    }\n",
       "</style>\n",
       "<table border=\"1\" class=\"dataframe\">\n",
       "  <thead>\n",
       "    <tr style=\"text-align: right;\">\n",
       "      <th></th>\n",
       "      <th>time</th>\n",
       "      <th>a</th>\n",
       "      <th>v</th>\n",
       "      <th>s</th>\n",
       "      <th>a0_i</th>\n",
       "    </tr>\n",
       "  </thead>\n",
       "  <tbody>\n",
       "    <tr>\n",
       "      <th>0</th>\n",
       "      <td>-2.65</td>\n",
       "      <td>0.0</td>\n",
       "      <td>8.829755</td>\n",
       "      <td>0.882975</td>\n",
       "      <td>0.94</td>\n",
       "    </tr>\n",
       "    <tr>\n",
       "      <th>1</th>\n",
       "      <td>-2.55</td>\n",
       "      <td>0.0</td>\n",
       "      <td>8.829755</td>\n",
       "      <td>1.765951</td>\n",
       "      <td>0.94</td>\n",
       "    </tr>\n",
       "    <tr>\n",
       "      <th>2</th>\n",
       "      <td>-2.45</td>\n",
       "      <td>0.0</td>\n",
       "      <td>8.829755</td>\n",
       "      <td>2.648926</td>\n",
       "      <td>0.94</td>\n",
       "    </tr>\n",
       "    <tr>\n",
       "      <th>3</th>\n",
       "      <td>-2.35</td>\n",
       "      <td>0.0</td>\n",
       "      <td>8.829755</td>\n",
       "      <td>3.531902</td>\n",
       "      <td>0.94</td>\n",
       "    </tr>\n",
       "    <tr>\n",
       "      <th>4</th>\n",
       "      <td>-2.25</td>\n",
       "      <td>0.0</td>\n",
       "      <td>8.829755</td>\n",
       "      <td>4.414877</td>\n",
       "      <td>0.94</td>\n",
       "    </tr>\n",
       "    <tr>\n",
       "      <th>...</th>\n",
       "      <td>...</td>\n",
       "      <td>...</td>\n",
       "      <td>...</td>\n",
       "      <td>...</td>\n",
       "      <td>...</td>\n",
       "    </tr>\n",
       "    <tr>\n",
       "      <th>525</th>\n",
       "      <td>7.45</td>\n",
       "      <td>0.0</td>\n",
       "      <td>24.905755</td>\n",
       "      <td>115.323498</td>\n",
       "      <td>4.94</td>\n",
       "    </tr>\n",
       "    <tr>\n",
       "      <th>526</th>\n",
       "      <td>7.55</td>\n",
       "      <td>0.0</td>\n",
       "      <td>24.905755</td>\n",
       "      <td>117.814074</td>\n",
       "      <td>4.94</td>\n",
       "    </tr>\n",
       "    <tr>\n",
       "      <th>527</th>\n",
       "      <td>7.65</td>\n",
       "      <td>0.0</td>\n",
       "      <td>24.905755</td>\n",
       "      <td>120.304649</td>\n",
       "      <td>4.94</td>\n",
       "    </tr>\n",
       "    <tr>\n",
       "      <th>528</th>\n",
       "      <td>7.75</td>\n",
       "      <td>0.0</td>\n",
       "      <td>24.905755</td>\n",
       "      <td>122.795225</td>\n",
       "      <td>4.94</td>\n",
       "    </tr>\n",
       "    <tr>\n",
       "      <th>529</th>\n",
       "      <td>7.85</td>\n",
       "      <td>0.0</td>\n",
       "      <td>24.905755</td>\n",
       "      <td>125.285800</td>\n",
       "      <td>4.94</td>\n",
       "    </tr>\n",
       "  </tbody>\n",
       "</table>\n",
       "<p>530 rows × 5 columns</p>\n",
       "</div>"
      ],
      "text/plain": [
       "     time    a          v           s  a0_i\n",
       "0   -2.65  0.0   8.829755    0.882975  0.94\n",
       "1   -2.55  0.0   8.829755    1.765951  0.94\n",
       "2   -2.45  0.0   8.829755    2.648926  0.94\n",
       "3   -2.35  0.0   8.829755    3.531902  0.94\n",
       "4   -2.25  0.0   8.829755    4.414877  0.94\n",
       "..    ...  ...        ...         ...   ...\n",
       "525  7.45  0.0  24.905755  115.323498  4.94\n",
       "526  7.55  0.0  24.905755  117.814074  4.94\n",
       "527  7.65  0.0  24.905755  120.304649  4.94\n",
       "528  7.75  0.0  24.905755  122.795225  4.94\n",
       "529  7.85  0.0  24.905755  125.285800  4.94\n",
       "\n",
       "[530 rows x 5 columns]"
      ]
     },
     "execution_count": 7,
     "metadata": {},
     "output_type": "execute_result"
    }
   ],
   "source": [
    "# Definition einer Messwerttabelle\n",
    "messwerte2 = []\n",
    "\n",
    "# Jetzt wird durch die Iteration des a0_vektors für alle a_0 die Geschwindigkeit, Weg und v0 berechnet.\n",
    "for a0_i in a0_vektor:\n",
    "    v0 = berechne_v0(a0_i, t_gesamt, weg)\n",
    "    s = 0\n",
    "    a = 0\n",
    "    for t in zeitschritte:\n",
    "        if (t >= t0) and (t <= t1):\n",
    "            a = a0_i\n",
    "            v0 = berechne_v(a,0.1,v0)\n",
    "            s = s + berechne_s(v0,0.1,a)\n",
    "            messwerte2.append([t-t_gesamt/2, a, v0, s, a0_i])\n",
    "        else:\n",
    "            a = 0\n",
    "            s = s + berechne_s(v0,0.1,a)\n",
    "            messwerte2.append([t-t_gesamt/2, a, v0, s, a0_i])\n",
    "\n",
    "tabelle2 = pd.DataFrame(messwerte2, columns=['time', 'a', 'v', 's', 'a0_i'])\n",
    "tabelle2"
   ]
  },
  {
   "cell_type": "code",
   "execution_count": 8,
   "metadata": {
    "tags": []
   },
   "outputs": [
    {
     "data": {
      "image/png": "[encoded data removed]",
      "text/plain": [
       "<Figure size 1080x216 with 3 Axes>"
      ]
     },
     "metadata": {
      "needs_background": "light"
     },
     "output_type": "display_data"
    }
   ],
   "source": [
    "# Für die Visualsierung werden nun die verschiedenen Messungen bei unterschiedlichen a0 anhand von a0 gruppiert\n",
    "groups = tabelle2.groupby(\"a0_i\") \n",
    "\n",
    "# Definition einer Farbpalette \n",
    "col_pal = plt.get_cmap('winter', len(a0_vektor))\n",
    "\n",
    "# Initialisieren einer Zählvariable\n",
    "i = -1\n",
    "\n",
    "fig, axs = plt.subplots(1, 3, figsize=(15,3))\n",
    "# Iteration der a0 Gruppen und anschließende Visualsierung der Zeitverläufe\n",
    "for name, group in groups:\n",
    "    i = i+1\n",
    "    axs[0].scatter(group['time'], group['a'], s=10, marker=\"_\", color=col_pal(i))\n",
    "    axs[1].plot(group['time'], group['v'], linestyle=\"-\", color=col_pal(i), label = f\"$a_0 = ${name}\")\n",
    "    axs[2].plot(group['time'], group['s'], linestyle=\"-\", color=col_pal(i))\n",
    "\n",
    "# Definition von Ploteigenschaften    \n",
    "axs[0].set_ylabel(r\"Beschleunigung $\\mathit{a}$ ($\\frac{m}{s^2}$)\")\n",
    "axs[0].set_xlabel(r\"Zeit $\\mathit{t}$ (${s}$)\")\n",
    "axs[0].axvline(x=0, ymin=0, ymax=1, color='#000000', linestyle='--')\n",
    "axs[0].axvline(x=t_gesamt, ymin=0, ymax=1, color='#000000', linestyle='--')\n",
    "axs[0].text(0,min(tabelle2['a']),r\"$t_0$\")\n",
    "axs[0].text(t_gesamt-0.5,min(tabelle2['a']),r\"$t_1$\")\n",
    "axs[1].set_ylabel(r\"Geschwindigkeit $\\mathit{v}$ ($\\frac{m}{s}$)\")\n",
    "axs[1].set_xlabel(r\"Zeit $\\mathit{t}$ (${s}$)\")\n",
    "axs[1].axvline(x=0, ymin=0, ymax=1, color='#000000', linestyle='--')\n",
    "axs[1].axvline(x=t_gesamt, ymin=0, ymax=14, color='#000000', linestyle='--')\n",
    "axs[1].text(0,min(tabelle2['v']),r\"$t_0$\")\n",
    "axs[1].text(t_gesamt-0.5,min(tabelle2['v']),r\"$t_1$\")\n",
    "axs[2].set_ylabel(r\"Weg $\\mathit{s}$ ($m$)\")\n",
    "axs[2].set_xlabel(r\"Zeit $\\mathit{t}$ (${s}$)\")\n",
    "axs[2].axvline(x=0, ymin=0, ymax=120, color='#000000',linestyle='--')\n",
    "axs[2].axvline(x=t_gesamt, ymin=0, ymax=120, color='#000000',linestyle='--')\n",
    "axs[2].text(0,min(tabelle2['s']),r\"$t_0$\")\n",
    "axs[2].text(t_gesamt-0.5,min(tabelle2['s']),r\"$t_1$\")\n",
    "#axs[1].legend(frameon=False, handlelength=0.75, fontsize='large', facecolor='#ffffff') \n",
    "axs[1].legend(loc='upper center', bbox_to_anchor=(0.5, -0.3),fancybox=True, shadow=True, ncol=len(a0_vektor))\n",
    "plt.show()"
   ]
  }
 ],
 "metadata": {
  "interpreter": {
   "hash": "803494f8049d4a4622042db8a939b16e06d121f310a92e89b593337249f946f8"
  },
  "kernelspec": {
   "display_name": "Physik_Praktikum",
   "language": "python",
   "name": "physik_praktikum"
  },
  "language_info": {
   "codemirror_mode": {
    "name": "ipython",
    "version": 3
   },
   "file_extension": ".py",
   "mimetype": "text/x-python",
   "name": "python",
   "nbconvert_exporter": "python",
   "pygments_lexer": "ipython3",
   "version": "3.9.7"
  }
 },
 "nbformat": 4,
 "nbformat_minor": 4
}
