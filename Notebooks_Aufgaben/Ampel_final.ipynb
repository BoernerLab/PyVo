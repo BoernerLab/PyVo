{
 "cells": [
  {
   "cell_type": "markdown",
   "metadata": {},
   "source": [
    "# Ampel\n",
    "\n",
    "Ein Kraftfahrzeug nähert sich einer Verkehrsampel mit verminderter Geschwindigkeit. Beim Umschalten der Ampel auf Grün wird das KFZ während der Zeit $t_{1}$ gleichmäßig mit $a$ beschleunigt und legt dabei die Wegstrecke $s_{1}$ zurück.\n",
    "Wie groß sind die Geschwindigkeiten $v_{0}$ und $v_{1}$ am Anfang und am Ende der Beschleunigungsphase?\n",
    "\n",
    "Gegeben:\n",
    "\n",
    "- Beschleunigung $a = 0,94~\\frac{\\text{m}}{\\text{s}²}$\n",
    "- Zeit $t_{1} = 5,3~\\text{s}$\n",
    "- Wegstrecke $s_{1} = 60~\\text{m}$\n",
    "\n",
    "Gesucht:\n",
    "\n",
    "Geschwindigkeit in Metern pro Sekunde [$\\frac{\\text{m}}{\\text{s}}$] \n",
    "1. $v_{0}$\n",
    "2. $v_{1}$\n",
    "\n",
    "Skizze: \n",
    "\n",
    "![title](Skizzen/ampel_RB.jpg)"
   ]
  },
  {
   "cell_type": "markdown",
   "metadata": {},
   "source": [
    "Zuerst müssen einige Biobliotheken importiert werden, die für Berechnungen, Visualisierung, etc. notwendig sind."
   ]
  },
  {
   "cell_type": "code",
   "execution_count": 35,
   "metadata": {},
   "outputs": [],
   "source": [
    "import matplotlib.pyplot as plt\n",
    "import pandas as pd\n",
    "import numpy as np"
   ]
  },
  {
   "cell_type": "markdown",
   "metadata": {},
   "source": [
    "Für die Berechnung von $v_{0}$ und $v_{1}$ benötigen wir das Weg-Zeit-Gesetzt für die gleichförmig beschleunigte Bewegung:\n",
    "\n",
    "$ s(t) = \\frac{a_0}{2} \\cdot{} t^2 + v_0 \\cdot{} t + s_0$\n",
    "\n",
    "Die Geschwindigkeit bzw. Beschleunigung in Abhängigkeit der Zeit der ergeben sich durch Ableiten - $v(t)=\\frac{\\text{d}s(t)}{\\text{d}t}$ bzw. $a(t)=\\frac{\\text{d}v(t)}{\\text{d}t}$:\n",
    "\n",
    "$v(t)=a_0 t+v_0$\n",
    "\n",
    "$a(t)=a_0$\n",
    "\n",
    "Wobei $a_0=a$ und $s_0=0$ ist. Da wir nun die Funktionen für Weg, Geschwindigkeit und Beschleunigung kennen, kann $s(t_1)=s_1$ eingesetzt und nach $v_0$ umgestellt werden:\n",
    "\n",
    "$ s_1(t) = \\frac{a}{2} \\cdot{} t_{1}^2 + v_0 \\cdot{} t_1 $\n",
    "\n",
    "$ v_0 = \\frac{s_{1}}{t_{1}} -\\frac{a}{2} \\cdot{}t_{1}$\n",
    "\n",
    "Da nun alle Anfangsbedingungen bekannt sind, kann $v_1(t_1)$ berechnet werden:\n",
    "\n",
    "$ v(t) = a \\cdot{} t + v_{0}$\n",
    "\n",
    "$ v_1(t_1) = a \\cdot{} t_1 + \\frac{s_{1}}{t_{1}} -\\frac{a}{2} \\cdot{}t_{1}$\n",
    "\n",
    "Nun können wir die oben gezeigten Formeln durch Python - Funktionen definieren, mit denen wir im Anschluss die Ergebnisse für z.B. $v_0$ und $v_1$ berechnen können."
   ]
  },
  {
   "cell_type": "code",
   "execution_count": 36,
   "metadata": {},
   "outputs": [],
   "source": [
    "# Funktion zur Berechnung von v0\n",
    "def berechne_v0(a, t, s):\n",
    "    return (s/t) - (0.5*a*t)\n",
    "\n",
    "# allgemeine Funktion zur Berechnung der Geschwindigkeit v\n",
    "def berechne_v(a,t, v0):\n",
    "    return (a * t) + v0\n",
    "\n",
    "# allgemeine Funktion zur Berechnung des Weges s\n",
    "def berechne_s(v0, t, a):\n",
    "    return (v0 * t) + ((a/2) * t**2)"
   ]
  },
  {
   "cell_type": "markdown",
   "metadata": {},
   "source": [
    "Nachdem die Formeln definiert wurden, können wir die gegebenen Werte als Variablen definieren und diese der Funktion übergeben."
   ]
  },
  {
   "cell_type": "code",
   "execution_count": 37,
   "metadata": {},
   "outputs": [
    {
     "name": "stdout",
     "output_type": "stream",
     "text": [
      "v0 = 8.83 m/s\n",
      "v1 = 13.812 m/s\n"
     ]
    }
   ],
   "source": [
    "# Variablen definieren\n",
    "a = 0.94 # m/s²\n",
    "t = 5.3  # s\n",
    "s = 60   # m\n",
    "\n",
    "# Funktionsaufruf zur Berechnung von v0\n",
    "v0 = berechne_v0(a, t, s)\n",
    "#Ausgabe des Ergebnisses\n",
    "print(f\"v0 = {round(v0,3)} m/s\")\n",
    "\n",
    "#Funktionsaufruf zur Berechnung von v1 mithilfe des zuvor berechneten v0.\n",
    "v1 = berechne_v(a, t, v0)\n",
    "print(f\"v1 = {round(v1,3)} m/s\")"
   ]
  },
  {
   "cell_type": "markdown",
   "metadata": {},
   "source": [
    "Rechenweg und Ergebnisse: \n",
    "\n",
    "Berechnung $v_0$:\n",
    "\n",
    "$v_{0}(t_{1}) = \\frac{60}{5,3}\\frac{\\text{m}}{\\text{s}} - \\frac{1}{2}\\cdot 0,94 \\frac{\\text{m}}{\\text{s}^2} \\cdot 5,3~\\text{s}  = 8,83~\\frac{\\text{m}}{\\text{s}}  ≈ 32~\\frac{\\text{km}}{\\text{h}}$\n",
    "\n",
    "Berechnung v mit $v_0$ eingesetzt:\n",
    "\n",
    "$v_{1}(t_{1}) = 0,94 \\frac{\\text{m}}{\\text{s}^2} \\cdot 5,3~\\text{s}+ 8,83~\\frac{\\text{m}}{\\text{s}^2} = 13,81~\\frac{\\text{m}}{\\text{s}} ≈ 50~\\frac{\\text{km}}{\\text{h}}$"
   ]
  },
  {
   "cell_type": "markdown",
   "metadata": {},
   "source": [
    "Nun können wir die Zusammenhänge der gleichmäßig beschleunigten Bewegung für die gegeben Parameter visualisieren. Hierfür werden für definierte Zeitschritt die Beschleunigung, die Geschwindigkeit und zurückgelegte Wegstrecke abhängig von t bestimmt.\n",
    "\n",
    "Der folgende Code berechnet Beschleunigung, Geschwindigkeit und Weg für die gegeben Werte: \n",
    "\n",
    "Beschleunigung $a = 0,94~\\frac{\\text{m}}{\\text{s²}}$\n",
    "\n",
    "benötigte Zeit $t = 5,3~\\text{s}$\n",
    "\n",
    "zurückgelegter Weg $s = 60~\\text{m}$"
   ]
  },
  {
   "cell_type": "code",
   "execution_count": 38,
   "metadata": {},
   "outputs": [
    {
     "data": {
      "text/html": [
       "<div>\n",
       "<style scoped>\n",
       "    .dataframe tbody tr th:only-of-type {\n",
       "        vertical-align: middle;\n",
       "    }\n",
       "\n",
       "    .dataframe tbody tr th {\n",
       "        vertical-align: top;\n",
       "    }\n",
       "\n",
       "    .dataframe thead th {\n",
       "        text-align: right;\n",
       "    }\n",
       "</style>\n",
       "<table border=\"1\" class=\"dataframe\">\n",
       "  <thead>\n",
       "    <tr style=\"text-align: right;\">\n",
       "      <th></th>\n",
       "      <th>$t$ [s]</th>\n",
       "      <th>$a$ [m/s²]</th>\n",
       "      <th>$v$ [m/s]</th>\n",
       "      <th>$s$ [m]</th>\n",
       "    </tr>\n",
       "  </thead>\n",
       "  <tbody>\n",
       "    <tr>\n",
       "      <th>0</th>\n",
       "      <td>0.0</td>\n",
       "      <td>0.0</td>\n",
       "      <td>8.829755</td>\n",
       "      <td>0.882975</td>\n",
       "    </tr>\n",
       "    <tr>\n",
       "      <th>1</th>\n",
       "      <td>0.1</td>\n",
       "      <td>0.0</td>\n",
       "      <td>8.829755</td>\n",
       "      <td>1.765951</td>\n",
       "    </tr>\n",
       "    <tr>\n",
       "      <th>2</th>\n",
       "      <td>0.2</td>\n",
       "      <td>0.0</td>\n",
       "      <td>8.829755</td>\n",
       "      <td>2.648926</td>\n",
       "    </tr>\n",
       "    <tr>\n",
       "      <th>3</th>\n",
       "      <td>0.3</td>\n",
       "      <td>0.0</td>\n",
       "      <td>8.829755</td>\n",
       "      <td>3.531902</td>\n",
       "    </tr>\n",
       "    <tr>\n",
       "      <th>4</th>\n",
       "      <td>0.4</td>\n",
       "      <td>0.0</td>\n",
       "      <td>8.829755</td>\n",
       "      <td>4.414877</td>\n",
       "    </tr>\n",
       "  </tbody>\n",
       "</table>\n",
       "</div>"
      ],
      "text/plain": [
       "   $t$ [s]  $a$ [m/s²]  $v$ [m/s]   $s$ [m]\n",
       "0      0.0         0.0   8.829755  0.882975\n",
       "1      0.1         0.0   8.829755  1.765951\n",
       "2      0.2         0.0   8.829755  2.648926\n",
       "3      0.3         0.0   8.829755  3.531902\n",
       "4      0.4         0.0   8.829755  4.414877"
      ]
     },
     "execution_count": 38,
     "metadata": {},
     "output_type": "execute_result"
    }
   ],
   "source": [
    "# Definition der Startparameter\n",
    "\n",
    "a0 = 0.94 # m/s^2\n",
    "weg = 60 # m\n",
    "\n",
    "# Hier definieren wir einen Beobachtungszeitraum, der die über die 5.3s hinaus geht und definieren dabei automatisch t0 und t1.\n",
    "zeitschritte = np.arange(0,t*2,0.1).round(1)\n",
    "t1 = round((t*2) - (t/2),1)\n",
    "t0 = round(t/2, 1)\n",
    "\n",
    "# Nun definieren wir eine Tabelle in der wir die gemessenen Werte erfassen.\n",
    "Messwerte = []\n",
    "\n",
    "# Initialisieren der Variablen und Berechnung von v0.\n",
    "v0 = berechne_v0(a0, t, weg)\n",
    "s = 0\n",
    "a = 0\n",
    "for t in zeitschritte:\n",
    "    # da nur zwischen t0 und t1 beschleunigt wird, ist die Beschleunigung \n",
    "    # nur zwischen t0 und t1 gleich der gegebenen Beschleunigung und ansonsten 0.\n",
    "    if (t >= t0) and (t <= t1):\n",
    "        a = a0\n",
    "        v0 = berechne_v(a,0.1,v0) # 0.1 ist Δt\n",
    "        s = s + berechne_s(v0,0.1,a) # s in Δs\n",
    "        Messwerte.append([t, a, v0, s]) # Hier fügen wir die aktuelle Beobachtung unseren Messwerten hinzu\n",
    "    else:\n",
    "        a = 0 # außerhalb von t0 und t1 wird nicht beschleunigt.\n",
    "        s = s + berechne_s(v0,0.1,a)\n",
    "        Messwerte.append([t, a, v0, s])\n",
    "        \n",
    "#Als letztes werden die Messwerte in ein Pandas DataFrame konvertiert. Das macht die Visualisierung einfacher.\n",
    "Tabelle = pd.DataFrame(Messwerte, columns=['$t$ [s]', '$a$ [m/s²]', '$v$ [m/s]', '$s$ [m]'])   \n",
    "Tabelle.head()"
   ]
  },
  {
   "cell_type": "markdown",
   "metadata": {},
   "source": [
    "Nun können wir Beschleunigung, Geschwindigkeit und Wegstrecke in Abhängigkeit von der Zeit graphisch darstellen:"
   ]
  },
  {
   "cell_type": "code",
   "execution_count": 39,
   "metadata": {},
   "outputs": [
    {
     "data": {
      "image/png": "[encoded data removed]",
      "text/plain": [
       "<Figure size 1080x216 with 3 Axes>"
      ]
     },
     "metadata": {
      "needs_background": "light"
     },
     "output_type": "display_data"
    }
   ],
   "source": [
    "fig, axs = plt.subplots(1, 3, figsize=(15,3))\n",
    "# Zeichnen der Verläufe\n",
    "axs[0].scatter(Tabelle['$t$ [s]'], Tabelle['$a$ [m/s²]'], s=10, marker=\"_\")\n",
    "axs[1].plot(Tabelle['$t$ [s]'], Tabelle['$v$ [m/s]'], linestyle=\"-\")\n",
    "axs[2].plot(Tabelle['$t$ [s]'], Tabelle['$s$ [m]'], linestyle=\"-\")\n",
    "\n",
    "# Einstellungen des Plots\n",
    "axs[0].set_ylabel(r\"Beschleunigung $\\mathit{a}$ [$\\frac{m}{s^2}$]\")\n",
    "axs[0].set_xlabel(r\"Zeit $\\mathit{t}$ [s]\")\n",
    "axs[0].axvline(x=t0, ymin=0, ymax=1, color='#000000', linestyle='--')\n",
    "axs[0].axvline(x=t1, ymin=0, ymax=1, color='#000000', linestyle='--')\n",
    "axs[0].text(t0,min(Tabelle['$a$ [m/s²]']),r\"$t_0$\")\n",
    "axs[0].text(t1-0.5,min(Tabelle['$a$ [m/s²]']),r\"$t_1$\")\n",
    "axs[1].set_ylabel(r\"Geschwindigkeit $\\mathit{v}$ [$\\frac{m}{s}$]\")\n",
    "axs[1].set_xlabel(r\"Zeit $\\mathit{t}$ [s]\")\n",
    "axs[1].axvline(x=t0, ymin=0, ymax=1, color='#000000', linestyle='--')\n",
    "axs[1].axvline(x=t1, ymin=0, ymax=14, color='#000000', linestyle='--')\n",
    "axs[1].text(t0,min(Tabelle['$v$ [m/s]']),r\"$t_0$\")\n",
    "axs[1].text(t1-0.5,min(Tabelle['$v$ [m/s]']),r\"$t_1$\")\n",
    "axs[2].set_ylabel(r\"Weg $\\mathit{s}$ [m]\")\n",
    "axs[2].set_xlabel(r\"Zeit $\\mathit{t}$ [s]\")\n",
    "axs[2].axvline(x=t0, ymin=0, ymax=120, color='#000000',linestyle='--')\n",
    "axs[2].axvline(x=t1, ymin=0, ymax=120, color='#000000',linestyle='--')\n",
    "axs[2].text(t0,min(Tabelle['$s$ [m]']),r\"$t_0$\")\n",
    "axs[2].text(t1-0.5,min(Tabelle['$s$ [m]']),r\"$t_1$\") \n",
    "plt.show()"
   ]
  },
  {
   "cell_type": "markdown",
   "metadata": {},
   "source": [
    "Der Vorteil einer Programmiersprache wie Python ist es, dass wir nun die gegebenen Werte verändern oder auch die Geschwindigkeiten für mehrere Startparameter berechnen können. Im folgendem Beispiel werden verschiedene Beschleunigungen gegeben und dabei die Geschwindigkeiten sowie die zurückgelegten Wegstrecken bestimmt.\n",
    "\n",
    "Als erstes sollten wir die verschiedenen Beschleunigungen definieren."
   ]
  },
  {
   "cell_type": "code",
   "execution_count": 40,
   "metadata": {},
   "outputs": [],
   "source": [
    "# Definition verschiedener Beschleunigungen von 0.94 - 100 \n",
    "a0_vektor = [0.94, 1.94, 2.94, 3.94]\n",
    "# Der zurückgelgte Weg und die Zeit sollen gleich bleiben\n",
    "weg = 60 # m\n",
    "t_gesamt = 5.3 #s\n",
    "# Anhand der Zeit ergeben sich auch wieder t0 und t1\n",
    "zeitschritte = np.arange(0,t_gesamt*2,0.1).round(1)\n",
    "t1 = round((t_gesamt*2) - (t_gesamt/2),1)\n",
    "t0 = round(t_gesamt/2, 1)"
   ]
  },
  {
   "cell_type": "markdown",
   "metadata": {},
   "source": [
    "Jetzt können in einer Schleife für verschiedene Beschleunigungen $a$ alle Geschwindigkeiten $v$ und Wegstrecken $s$ in Abhängigkeit von der Zeit bestimmt werden: "
   ]
  },
  {
   "cell_type": "code",
   "execution_count": 41,
   "metadata": {},
   "outputs": [
    {
     "data": {
      "text/html": [
       "<div>\n",
       "<style scoped>\n",
       "    .dataframe tbody tr th:only-of-type {\n",
       "        vertical-align: middle;\n",
       "    }\n",
       "\n",
       "    .dataframe tbody tr th {\n",
       "        vertical-align: top;\n",
       "    }\n",
       "\n",
       "    .dataframe thead th {\n",
       "        text-align: right;\n",
       "    }\n",
       "</style>\n",
       "<table border=\"1\" class=\"dataframe\">\n",
       "  <thead>\n",
       "    <tr style=\"text-align: right;\">\n",
       "      <th></th>\n",
       "      <th>$t$ [s]</th>\n",
       "      <th>$a$ [m/s²]</th>\n",
       "      <th>$v$ [m/s]</th>\n",
       "      <th>$s$ [m]</th>\n",
       "      <th>$a_{0,i}$ [m/s²]</th>\n",
       "    </tr>\n",
       "  </thead>\n",
       "  <tbody>\n",
       "    <tr>\n",
       "      <th>0</th>\n",
       "      <td>0.0</td>\n",
       "      <td>0.0</td>\n",
       "      <td>8.829755</td>\n",
       "      <td>0.882975</td>\n",
       "      <td>0.94</td>\n",
       "    </tr>\n",
       "    <tr>\n",
       "      <th>1</th>\n",
       "      <td>0.1</td>\n",
       "      <td>0.0</td>\n",
       "      <td>8.829755</td>\n",
       "      <td>1.765951</td>\n",
       "      <td>0.94</td>\n",
       "    </tr>\n",
       "    <tr>\n",
       "      <th>2</th>\n",
       "      <td>0.2</td>\n",
       "      <td>0.0</td>\n",
       "      <td>8.829755</td>\n",
       "      <td>2.648926</td>\n",
       "      <td>0.94</td>\n",
       "    </tr>\n",
       "    <tr>\n",
       "      <th>3</th>\n",
       "      <td>0.3</td>\n",
       "      <td>0.0</td>\n",
       "      <td>8.829755</td>\n",
       "      <td>3.531902</td>\n",
       "      <td>0.94</td>\n",
       "    </tr>\n",
       "    <tr>\n",
       "      <th>4</th>\n",
       "      <td>0.4</td>\n",
       "      <td>0.0</td>\n",
       "      <td>8.829755</td>\n",
       "      <td>4.414877</td>\n",
       "      <td>0.94</td>\n",
       "    </tr>\n",
       "  </tbody>\n",
       "</table>\n",
       "</div>"
      ],
      "text/plain": [
       "   $t$ [s]  $a$ [m/s²]  $v$ [m/s]   $s$ [m]  $a_{0,i}$ [m/s²]\n",
       "0      0.0         0.0   8.829755  0.882975              0.94\n",
       "1      0.1         0.0   8.829755  1.765951              0.94\n",
       "2      0.2         0.0   8.829755  2.648926              0.94\n",
       "3      0.3         0.0   8.829755  3.531902              0.94\n",
       "4      0.4         0.0   8.829755  4.414877              0.94"
      ]
     },
     "execution_count": 41,
     "metadata": {},
     "output_type": "execute_result"
    }
   ],
   "source": [
    "# Wir definieren wieder eine Messwerttabelle\n",
    "\n",
    "Messwerte= []\n",
    "\n",
    "# Jetzt wird durch die iteration des a0_vektors für alle a_0 die Geschwindigkeit, Weg und v0 berechnet.\n",
    "for a0_i in a0_vektor:\n",
    "    v0 = berechne_v0(a0_i, t_gesamt, weg)\n",
    "    s = 0\n",
    "    a = 0\n",
    "    for t in zeitschritte:\n",
    "        if (t >= t0) and (t <= t1):\n",
    "            a = a0_i\n",
    "            v0 = berechne_v(a,0.1,v0)\n",
    "            s = s + berechne_s(v0,0.1,a)\n",
    "            Messwerte.append([t, a, v0, s, a0_i])\n",
    "        else:\n",
    "            a = 0\n",
    "            s = s + berechne_s(v0,0.1,a)\n",
    "            Messwerte.append([t, a, v0, s, a0_i])\n",
    "\n",
    "Tabelle2 = pd.DataFrame(Messwerte, columns=['$t$ [s]', '$a$ [m/s²]', '$v$ [m/s]', '$s$ [m]','$a_{0,i}$ [m/s²]'])\n",
    "Tabelle2.head()"
   ]
  },
  {
   "cell_type": "code",
   "execution_count": 42,
   "metadata": {},
   "outputs": [
    {
     "data": {
      "image/png": "[encoded data removed]",
      "text/plain": [
       "<Figure size 1080x216 with 3 Axes>"
      ]
     },
     "metadata": {
      "needs_background": "light"
     },
     "output_type": "display_data"
    }
   ],
   "source": [
    "groups = Tabelle2.groupby(\"$a_{0,i}$ [m/s²]\") # Für die Visualsierung werden nun die verschiedenen Messungen bei unterschiedlichen a0 anhand von a0 Gruppiert\n",
    "\n",
    "# Definition einer Farbpalette \n",
    "col_pal = plt.get_cmap('winter', len(a0_vektor))\n",
    "# Initialisieren einer Zählvariablen\n",
    "i = -1\n",
    "\n",
    "\n",
    "fig, axs = plt.subplots(1, 3, figsize=(15,3))\n",
    "# Iteration der a0 Gruppen und anschließende Visualsierung der Zeitverläufe\n",
    "for name, group in groups:\n",
    "    i = i+1\n",
    "    axs[0].scatter(group['$t$ [s]'], group['$a$ [m/s²]'], s=10, marker=\"_\", color=col_pal(i))\n",
    "    axs[1].plot(group['$t$ [s]'], group['$v$ [m/s]'], linestyle=\"-\", color=col_pal(i), label = f\"$a_0$ [m/s²] = {name}\")\n",
    "    axs[2].plot(group['$t$ [s]'], group['$s$ [m]'], linestyle=\"-\", color=col_pal(i))\n",
    "    \n",
    "axs[0].set_ylabel(r\"Beschleunigung $\\mathit{a}$ [m/s²]\")\n",
    "axs[0].set_xlabel(r\"Zeit $\\mathit{t}$ [s]\")\n",
    "axs[0].axvline(x=t0, ymin=0, ymax=1, color='#000000', linestyle='--')\n",
    "axs[0].axvline(x=t1, ymin=0, ymax=1, color='#000000', linestyle='--')\n",
    "axs[0].text(t0,min(Tabelle2['$a$ [m/s²]']),r\"$t_0$\")\n",
    "axs[0].text(t1-0.5,min(Tabelle2['$a$ [m/s²]']),r\"$t_1$\")\n",
    "axs[1].set_ylabel(r\"Geschwindigkeit $\\mathit{v}$ [m/s]\")\n",
    "axs[1].set_xlabel(r\"Zeit $\\mathit{t}$ [s]\")\n",
    "axs[1].axvline(x=t0, ymin=0, ymax=1, color='#000000', linestyle='--')\n",
    "axs[1].axvline(x=t1, ymin=0, ymax=14, color='#000000', linestyle='--')\n",
    "axs[1].text(t0,min(Tabelle2['$v$ [m/s]']),r\"$t_0$\")\n",
    "axs[1].text(t1-0.5,min(Tabelle2['$v$ [m/s]']),r\"$t_1$\")\n",
    "axs[2].set_ylabel(r\"Weg $\\mathit{s}$ [m]\")\n",
    "axs[2].set_xlabel(r\"Zeit $\\mathit{t}$ [s]\")\n",
    "axs[2].axvline(x=t0, ymin=0, ymax=120, color='#000000',linestyle='--')\n",
    "axs[2].axvline(x=t1, ymin=0, ymax=120, color='#000000',linestyle='--')\n",
    "axs[2].text(t0,min(Tabelle2['$s$ [m]']),r\"$t_0$\")\n",
    "axs[2].text(t1-0.5,min(Tabelle2['$s$ [m]']),r\"$t_1$\") \n",
    "#axs[1].legend(frameon=False, handlelength=0.75, fontsize='large', facecolor='#ffffff') \n",
    "axs[1].legend(loc='upper center', bbox_to_anchor=(0.5, -0.3),\n",
    "          fancybox=True, shadow=True, ncol=len(a0_vektor))\n",
    "plt.show()"
   ]
  }
 ],
 "metadata": {
  "interpreter": {
   "hash": "803494f8049d4a4622042db8a939b16e06d121f310a92e89b593337249f946f8"
  },
  "kernelspec": {
   "display_name": "Python 3 (ipykernel)",
   "language": "python",
   "name": "python3"
  },
  "language_info": {
   "codemirror_mode": {
    "name": "ipython",
    "version": 3
   },
   "file_extension": ".py",
   "mimetype": "text/x-python",
   "name": "python",
   "nbconvert_exporter": "python",
   "pygments_lexer": "ipython3",
   "version": "3.9.7"
  }
 },
 "nbformat": 4,
 "nbformat_minor": 4
}
